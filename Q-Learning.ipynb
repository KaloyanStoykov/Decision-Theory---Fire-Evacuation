{
 "cells": [
  {
   "cell_type": "markdown",
   "id": "ca0aefad",
   "metadata": {},
   "source": [
    "# Firefighter Game - MDP and Q-Learning\n",
    "\n",
    "## Research Question\n",
    "\n",
    "**Which algorithm is more efficient for solving the firefighter game? Classical algorithm or reinforcement learning.**\n",
    "\n",
    "The algorithms will be assesed on:\n",
    " - Steps to reach the target\n",
    " - Amount of deaths\n",
    " - Illegal actions\n",
    " - Total rewards\n",
    "\n",
    "## The Environment\n",
    "\n",
    "We used gymnasium as the execution environment for both algorithms.\n"
   ]
  },
  {
   "cell_type": "code",
   "execution_count": null,
   "id": "b1952daa",
   "metadata": {},
   "outputs": [],
   "source": [
    "import gymnasium as gym\n",
    "\n",
    "\n",
    "gym.envs.registration.register(\n",
    "    id=\"FireFighterWorld\",\n",
    "    entry_point=\"envs:FireFighterWorld\",\n",
    ")\n",
    "\n",
    "env = gym.make(\"FireFighterWorld\", render_mode=\"human\" if RENDER else \"rgb_array\")\n",
    "env.reset(seed=42) # The seed is set to keep the results consistent"
   ]
  },
  {
   "cell_type": "markdown",
   "id": "5d9ebb78",
   "metadata": {},
   "source": [
    "### The Game\n",
    "....\n",
    "\n"
   ]
  }
 ],
 "metadata": {
  "kernelspec": {
   "display_name": "Python 3",
   "language": "python",
   "name": "python3"
  },
  "language_info": {
   "name": "python",
   "version": "3.12.8"
  }
 },
 "nbformat": 4,
 "nbformat_minor": 5
}
